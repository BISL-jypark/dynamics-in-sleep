{
 "cells": [
  {
   "cell_type": "code",
   "execution_count": 1,
   "id": "4bbf9214",
   "metadata": {},
   "outputs": [],
   "source": [
    "import warnings\n",
    "warnings.filterwarnings(action='ignore') # To show code clearly"
   ]
  },
  {
   "cell_type": "code",
   "execution_count": 2,
   "id": "a1d261d4",
   "metadata": {},
   "outputs": [],
   "source": [
    "import os\n",
    "import csv\n",
    "import scipy\n",
    "import numpy as np\n",
    "import pandas as pd\n",
    "import networkx as nx\n",
    "import seaborn as sns\n",
    "import matplotlib.pyplot as plt"
   ]
  },
  {
   "cell_type": "code",
   "execution_count": 3,
   "id": "652ffc64",
   "metadata": {
    "scrolled": true
   },
   "outputs": [],
   "source": [
    "import GEOparse\n",
    "gse = GEOparse.get_GEO(\"GSE56931\", annotate_gpl='GPL10379', silent=True)"
   ]
  },
  {
   "cell_type": "markdown",
   "id": "b044eef8",
   "metadata": {},
   "source": [
    "### Pre-processing"
   ]
  },
  {
   "cell_type": "code",
   "execution_count": 4,
   "id": "c9fa1d91",
   "metadata": {},
   "outputs": [],
   "source": [
    "# Blood transcriptome data\n",
    "sample_info_dict = {}\n",
    "try : \n",
    "    for gsm_name, gsm in gse.gsms.items():\n",
    "        subject, responder, gender, day, timepoint, group = gsm.metadata[\"title\"][0].split(', ')\n",
    "        subject = subject.split(' ')[1]\n",
    "        responder = responder.split(' ')[0]\n",
    "        day = day[3:]; timepoint = timepoint[4:].strip()\n",
    "\n",
    "        sample_info_dict[gsm.metadata[\"geo_accession\"][0]] = [subject, group, gender, responder, day, timepoint]\n",
    "except:\n",
    "    print(gsm_name)\n",
    "col = ['subject', 'group', 'gender', 'responder', 'day', 'timepoint']\n",
    "sample_info = pd.DataFrame.from_dict(sample_info_dict, orient='index', columns=col)"
   ]
  },
  {
   "cell_type": "code",
   "execution_count": 5,
   "id": "21b2dcbd",
   "metadata": {},
   "outputs": [],
   "source": [
    "# Annotation table\n",
    "gpl = gse.gpls['GPL10379'].table.dropna(subset=['GeneSymbol'])\n",
    "annot_table = gsm.annotate(gpl, annotation_column=\"GeneSymbol\")\n",
    "annot_table = annot_table.drop(['VALUE'], axis=1)\n",
    "annot_table = annot_table.set_index('ID_REF')"
   ]
  },
  {
   "cell_type": "code",
   "execution_count": 6,
   "id": "1d352ffb",
   "metadata": {},
   "outputs": [],
   "source": [
    "# Sleep condition groups\n",
    "BS = sample_info[sample_info['group']=='baseline'].index.tolist()\n",
    "SD = sample_info[sample_info['group']=='sleepdep'].index.tolist()\n",
    "BS = list(set(BS) - set(sample_info[(sample_info.day == '1')].index))\n",
    "\n",
    "BS_df = gse.pivot_samples('VALUE')[BS] # Quantile normalized signal intensity\n",
    "SD_df = gse.pivot_samples('VALUE')[SD]"
   ]
  },
  {
   "cell_type": "code",
   "execution_count": 7,
   "id": "bca5841d",
   "metadata": {},
   "outputs": [],
   "source": [
    "annot_dict = {k:v['GeneSymbol'] for k, v in annot_table.to_dict('index').items()}\n",
    "\n",
    "BS_df.rename(index=annot_dict, inplace=True)\n",
    "BS_df.drop((i for i in BS_df.index if type(i)==int), inplace=True)\n",
    "BS_df = BS_df.groupby(BS_df.index).mean() #33475\n",
    "\n",
    "SD_df.rename(index=annot_dict, inplace=True)\n",
    "SD_df.drop((i for i in SD_df.index if type(i)==int), inplace=True)\n",
    "SD_df = SD_df.groupby(SD_df.index).mean() #33475"
   ]
  },
  {
   "cell_type": "code",
   "execution_count": 8,
   "id": "5588b863",
   "metadata": {},
   "outputs": [],
   "source": [
    "# Subject dataframe\n",
    "BS_phase = {(2,0):0, (2,4):4, (2,8):8, (2,12):12, (2,16):16, (2,20):20}\n",
    "SD_phase = {(3,0):0, (3,4):4, (3,8):8, (3,12):12, (3,16):16, (3,20):20}\n",
    "\n",
    "for subject in set(sample_info['subject']) :\n",
    "    for group in [\"BS\", \"SD\"]:\n",
    "        df = sample_info.loc[list(set(sample_info[(sample_info['subject']==subject)].index).intersection(set(vars()[group])))]\n",
    "        df.day = [int(d) for d in df.day]\n",
    "        df.timepoint = [int(t) for t in df.timepoint]\n",
    "        df.sort_values(by=['day','timepoint'], inplace=True)\n",
    "        df['phase'] = df.apply(lambda x: globals()[group+'_phase'][(x.day, x.timepoint)], axis=1)\n",
    "        \n",
    "        vars()[subject+'_'+group] = vars()[group+'_df'][df.index]\n",
    "        idx = [i for i in vars()[group+'_df'].index if ('_at' not in i)&('tcag' not in i)&('hCG' not in i)]\n",
    "        vars()[subject+'_'+group] = vars()[subject+'_'+group].loc[idx] #18661\n",
    "        vars()[subject+'_'+group].columns = df.phase"
   ]
  },
  {
   "cell_type": "markdown",
   "id": "7964fe6d",
   "metadata": {},
   "source": [
    "### DEG search"
   ]
  },
  {
   "cell_type": "code",
   "execution_count": 9,
   "id": "5dc207de",
   "metadata": {},
   "outputs": [],
   "source": [
    "# Mixed-model ANOVA\n",
    "import pingouin as pg\n",
    "\n",
    "DF = pd.DataFrame()\n",
    "for subject in set(sample_info.subject):\n",
    "    for group in [\"BS\", \"SD\"]:\n",
    "        df = sample_info.loc[list(set(sample_info[(sample_info['subject']==subject)].index).intersection(set(vars()[group])))]\n",
    "        df.day = [int(d) for d in df.day]\n",
    "        df.timepoint = [int(t) for t in df.timepoint]\n",
    "        df.sort_values(by=['day','timepoint'], inplace=True)\n",
    "        df['phase'] = df.apply(lambda x: globals()[group+'_phase'][(x.day, x.timepoint)], axis=1)\n",
    "        df = df[['subject','group','phase']]\n",
    "        df['group'] = group\n",
    "        \n",
    "        if group == 'BS':\n",
    "            df_bs = pd.merge(df[(df['subject']==subject)&(df['group']==group)], vars()[subject+'_BS'].T, how='outer', left_on='phase', right_index=True)\n",
    "            df_bs['subject'] = subject + '_BS'\n",
    "        elif group == 'SD':\n",
    "            df_sd = pd.merge(df[(df['subject']==subject)&(df['group']==group)], vars()[subject+'_SD'].T, how='outer', left_on='phase', right_index=True)\n",
    "            df_sd['subject'] = subject + '_SD'\n",
    "    DF = pd.concat([DF, df_bs, df_sd])"
   ]
  },
  {
   "cell_type": "code",
   "execution_count": 10,
   "id": "09c73d73",
   "metadata": {},
   "outputs": [
    {
     "name": "stdout",
     "output_type": "stream",
     "text": [
      "621\n"
     ]
    }
   ],
   "source": [
    "DEG_anova = []\n",
    "if os.path.isfile('../data/SD-GSE56931/ANOVA621.csv'):\n",
    "    with open('../data/SD-GSE56931/ANOVA621.csv','r') as fr :\n",
    "        reader = csv.reader(fr)\n",
    "        for line in reader:\n",
    "            DEG_anova.append(line)\n",
    "    DEG_anova = DEG_anova[0]\n",
    "    print(len(DEG_anova))\n",
    "else:\n",
    "    for gene in DF.columns[3:]:\n",
    "        results = pg.mixed_anova(dv=gene, between='group', within='phase', subject='subject', data=DF[['subject','group','phase',gene]])\n",
    "        reject, corrected_pval = pg.multicomp(results['p-unc'], method='fdr_bh')\n",
    "        if corrected_pval[2] < 0.05:\n",
    "            DEG_anova.append(gene)\n",
    "    print(len(DEG_anova)) #621"
   ]
  },
  {
   "cell_type": "markdown",
   "id": "87ef02a3",
   "metadata": {},
   "source": [
    "### Stationary test"
   ]
  },
  {
   "cell_type": "code",
   "execution_count": 11,
   "id": "f1e8783a",
   "metadata": {},
   "outputs": [],
   "source": [
    "def fillna(data):\n",
    "    df = pd.DataFrame(data, columns=list(range(0,24,4)))\n",
    "    df = df.T.interpolate()\n",
    "    df = df.fillna(method='ffill') #fillna with previous time value\n",
    "    df = df.fillna(method='bfill') #fillna with next time value\n",
    "    return df.T"
   ]
  },
  {
   "cell_type": "code",
   "execution_count": 12,
   "id": "be160a67",
   "metadata": {},
   "outputs": [
    {
     "name": "stdout",
     "output_type": "stream",
     "text": [
      "18660\n"
     ]
    }
   ],
   "source": [
    "# Stationary test (Augemented Dickey-Fuller test)\n",
    "from statsmodels.tsa.stattools import adfuller\n",
    "\n",
    "if os.path.isfile('../data/SD-GSE56931/nonstationary.csv'):\n",
    "    nonstationary_list = []\n",
    "    with open('../data/SD-GSE56931/nonstationary.csv', 'r') as fr :\n",
    "        reader = csv.reader(fr)\n",
    "        for line in reader:\n",
    "            nonstationary_list.append(line) \n",
    "    nonstationary_list = nonstationary_list[0]\n",
    "    print(len(nonstationary_list))\n",
    "else :\n",
    "    nonstationary = dict()\n",
    "    for subject in set(sample_info['subject']) :\n",
    "        df = fillna(vars()[subject+'_BS'])\n",
    "        if len(df.columns) == 6 :  # samples should have all time-points\n",
    "            sns = []\n",
    "            try :\n",
    "                for i in df.index:\n",
    "                    if adfuller(df.loc[i])[1] >= 0.05 :\n",
    "                        sns.append(i)\n",
    "                nonstationary[subject] = sns\n",
    "            except : print(\"X\",subject, i)\n",
    "\n",
    "    nonstationary_list = set.union(*map(set, nonstationary.values())) \n",
    "    print(len(nonstationary_list)) #18660"
   ]
  },
  {
   "cell_type": "markdown",
   "id": "d9faa85e",
   "metadata": {},
   "source": [
    "### Oscillation test"
   ]
  },
  {
   "cell_type": "code",
   "execution_count": 13,
   "id": "0cbb9781",
   "metadata": {},
   "outputs": [
    {
     "name": "stdout",
     "output_type": "stream",
     "text": [
      "18914 18064\n",
      "11529\n"
     ]
    }
   ],
   "source": [
    "# Cosinor analysis - 24 periodicity\n",
    "from CosinorPy import cosinor, cosinor1\n",
    "\n",
    "if os.path.isfile('../data/SD-GSE56931/oscillation_BS.csv') & os.path.isfile('../data/SD-GSE56931/oscillation_SD.csv') :\n",
    "    oscillation_BS = []; oscillation_SD = []\n",
    "    with open('../data/SD-GSE56931/oscillation_BS.csv','r') as fr:\n",
    "        reader = csv.reader(fr)\n",
    "        for line in reader:\n",
    "            oscillation_BS.append(line)\n",
    "    oscillation_BS = oscillation_BS[0]\n",
    "    \n",
    "    with open('../data/SD-GSE56931/oscillation_SD.csv','r') as fr:\n",
    "        reader = csv.reader(fr)\n",
    "        for line in reader:\n",
    "            oscillation_SD.append(line)\n",
    "    oscillation_SD = oscillation_SD[0]\n",
    "    print(len(oscillation_BS), len(oscillation_SD)) #18914, 18064\n",
    "    \n",
    "else :\n",
    "    cosinor_dict = {}\n",
    "    for subject in set(sample_info['subject']) :\n",
    "        cosinor_dict[subject] = {}\n",
    "\n",
    "        for group in [\"BS\",\"SD\"]:\n",
    "            cosinor_dict[subject][group] = pd.DataFrame()\n",
    "            if len(vars()[subject+\"_\"+group].columns) == 0 : pass\n",
    "            else :\n",
    "                df = fillna(vars()[subject+\"_\"+group])\n",
    "                print(subject, group)\n",
    "                for i in vars()[subject+\"_\"+group].index :\n",
    "                    cosinor_df = pd.DataFrame({'x':np.linspace(0,24,7)[:-1], 'y':df.loc[i].values, 'test':['test1']*6})\n",
    "                    results = cosinor.fit_group(cosinor_df, period=24, plot=False)\n",
    "                    df_best_models = cosinor.get_best_models(cosinor_df, results)\n",
    "                    df_best_models['test'] = i\n",
    "                    cosinor_dict[subject][group] = pd.concat([cosinor_dict[subject][group], df_best_models])\n",
    "\n",
    "    for group in [\"BS\",\"SD\"]:\n",
    "        vars()[\"oscillation_\"+group] = []\n",
    "        for subject, cosinor_res in cosinor_dict.items():\n",
    "            if len(cosinor_res[group]) != 0 :\n",
    "                vars()[\"oscillation_\"+group].extend(cosinor_res[group][cosinor_res[group]['p'] < 0.05]['test'])\n",
    "    \n",
    "oscillation_genes = set(oscillation_BS).intersection(set(nonstationary_list)) #11529\n",
    "print(len(oscillation_genes))"
   ]
  },
  {
   "cell_type": "markdown",
   "id": "96ae85f2",
   "metadata": {},
   "source": [
    "### Network analysis"
   ]
  },
  {
   "cell_type": "code",
   "execution_count": 19,
   "id": "87aa5cab",
   "metadata": {},
   "outputs": [],
   "source": [
    "# Gene co-expressed network\n",
    "G = nx.Graph()\n",
    "DEGs = list(set(oscillation_genes).intersection(set(DEG_anova))) # You can get DEG list from ./data/DEG435.csv\n",
    "G.add_nodes_from(DEGs) #435"
   ]
  },
  {
   "cell_type": "code",
   "execution_count": 20,
   "id": "7c3d4571",
   "metadata": {},
   "outputs": [],
   "source": [
    "# Phase dataframe\n",
    "protocols = []\n",
    "for phase in range(0,24,4):\n",
    "    for group in ['BS', 'SD']:\n",
    "        df = sample_info.loc[vars()[group]]\n",
    "        df.day = [int(d) for d in df.day]\n",
    "        df.timepoint = [int(t) for t in df.timepoint]\n",
    "        df.sort_values(by=['day','timepoint'], inplace=True)\n",
    "        df['phase'] = df.apply(lambda x: globals()[group+'_phase'][(x.day, x.timepoint)], axis=1)\n",
    "        \n",
    "        name = group+'_'+str(phase)\n",
    "        vars()[name] = df[df.phase == phase].index\n",
    "        vars()[name+'_df'] = vars()[group+'_df'][vars()[name]].loc[DEGs]\n",
    "        protocols.append(name)"
   ]
  },
  {
   "cell_type": "code",
   "execution_count": null,
   "id": "2aefa14d",
   "metadata": {},
   "outputs": [],
   "source": [
    "# Make the edges\n",
    "from tqdm import tqdm\n",
    "\n",
    "for protocol in protocols:\n",
    "    if os.path.isfile('./data/{}_edges.csv'.format(protocol)):\n",
    "        vars()[protocol+'_edges'] = []\n",
    "        with open('./data/{}_edges.csv'.format(protocol)) as fr:\n",
    "            reader = csv.reader(fr)\n",
    "            for line in reader:\n",
    "                vars()[protocol+'_edges'].append(line)\n",
    "        vars()[protocol+'_edges'] = vars()[protocol+'_edges'][0]\n",
    "    else:\n",
    "        df = vars()[protocol+'_df']\n",
    "        edges = []\n",
    "        for i in tqdm(range(len(df.index))):\n",
    "            for j in range(len(df.index)):\n",
    "                if i < j :\n",
    "                    r, p = scipy.stats.pearsonr(df.iloc[i], df.iloc[j])\n",
    "                    if p < 0.05:\n",
    "                        edges.append((df.index[i], df.index[j], r)) \n",
    "                    else: edges.append((df.index[i], df.index[j], 0))\n",
    "        vars()[protocol+'_edges'] = edges"
   ]
  }
 ],
 "metadata": {
  "kernelspec": {
   "display_name": "Python 3",
   "language": "python",
   "name": "python3"
  },
  "language_info": {
   "codemirror_mode": {
    "name": "ipython",
    "version": 3
   },
   "file_extension": ".py",
   "mimetype": "text/x-python",
   "name": "python",
   "nbconvert_exporter": "python",
   "pygments_lexer": "ipython3",
   "version": "3.8.5"
  }
 },
 "nbformat": 4,
 "nbformat_minor": 5
}
