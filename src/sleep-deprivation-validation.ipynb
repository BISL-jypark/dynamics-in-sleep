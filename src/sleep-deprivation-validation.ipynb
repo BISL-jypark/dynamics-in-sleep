{
 "cells": [
  {
   "cell_type": "code",
   "execution_count": 2,
   "id": "f6470324",
   "metadata": {},
   "outputs": [],
   "source": [
    "import warnings\n",
    "warnings.filterwarnings(action='ignore') # To show code clearly"
   ]
  },
  {
   "cell_type": "code",
   "execution_count": 3,
   "id": "f24e00a9",
   "metadata": {},
   "outputs": [],
   "source": [
    "import os\n",
    "import csv\n",
    "import scipy\n",
    "import numpy as np\n",
    "import pandas as pd\n",
    "import networkx as nx\n",
    "import seaborn as sns\n",
    "import matplotlib.pyplot as plt"
   ]
  },
  {
   "cell_type": "code",
   "execution_count": 5,
   "id": "2b1ba761",
   "metadata": {},
   "outputs": [],
   "source": [
    "import GEOparse\n",
    "gse = GEOparse.get_GEO(\"GSE140345\", annotate_gpl='GPL17021', silent=True)"
   ]
  },
  {
   "cell_type": "markdown",
   "id": "896a76d3",
   "metadata": {},
   "source": [
    "### Pre-processing"
   ]
  },
  {
   "cell_type": "code",
   "execution_count": 6,
   "id": "66928237",
   "metadata": {},
   "outputs": [],
   "source": [
    "sample_info_dict = {}\n",
    "for gsm_name, gsm in gse.gsms.items():\n",
    "    if ('RNA' in gsm.metadata['title'][0]) & (int(gsm.metadata['characteristics_ch1'][1].split(': ')[1]) < 74) :\n",
    "        if len(gsm.metadata['title'][0].split('_')) < 5:\n",
    "            sample_info_dict[gsm_name] = [gsm.metadata['characteristics_ch1'][2].split(': ')[1], int(gsm.metadata['characteristics_ch1'][1].split(': ')[1])]\n",
    "\n",
    "sample_info = pd.DataFrame.from_dict(sample_info_dict, orient='index', columns=['condition','time'])"
   ]
  },
  {
   "cell_type": "code",
   "execution_count": 7,
   "id": "3dfaa0c0",
   "metadata": {},
   "outputs": [],
   "source": [
    "title_to_name = {}\n",
    "for gsm_name, gsm in gse.gsms.items():\n",
    "    title_to_name[gsm.metadata['title'][0]] = gsm_name\n",
    "    \n",
    "exp_df = pd.read_csv('../data/SD-GSE56931/GSE140345_RNA_level_all_genes.txt', sep='\\t|,')\n",
    "exp_df = exp_df.filter(items=[c for c in exp_df.columns if int(c.split('_')[1][1:]) < 74], axis=1)\n",
    "exp_df.columns = ['Gene','RNA_T24_NSD_T0N5'] + list(exp_df.columns[2:])\n",
    "exp_df.rename(columns=title_to_name, inplace=True)\n",
    "exp_df = exp_df[~exp_df['Gene'].str.contains('Rik')]\n",
    "exp_df = exp_df.set_index('Gene')\n",
    "exp_df.index = list(map(str.upper, exp_df.index))\n",
    "exp_df.loc['PISD',exp_df.columns] = exp_df.loc[['PISD']].sum().values\n",
    "exp_df = exp_df[~exp_df.index.duplicated(keep='first')]"
   ]
  },
  {
   "cell_type": "markdown",
   "id": "2cb56dd9",
   "metadata": {},
   "source": [
    "### DEG search"
   ]
  },
  {
   "cell_type": "code",
   "execution_count": 8,
   "id": "f103a6de",
   "metadata": {},
   "outputs": [
    {
     "data": {
      "text/plain": [
       "3852"
      ]
     },
     "execution_count": 8,
     "metadata": {},
     "output_type": "execute_result"
    }
   ],
   "source": [
    "# ANOVA test\n",
    "import pingouin as pg\n",
    "\n",
    "deg_df = exp_df.T\n",
    "deg_df.insert(0, 'group', ['BS' if gsm in sample_info[sample_info.time < 25].index else 'SR' if gsm in sample_info[sample_info.time < 50].index else '-' for gsm in exp_df.T.index])\n",
    "deg_df.insert(1, 'time', [str(sample_info.loc[gsm]['time']) for gsm in exp_df.T.index])\n",
    "deg_df = deg_df[deg_df.group != '-']\n",
    "\n",
    "DEG_anova = []\n",
    "for gene in exp_df.index:\n",
    "    results = pg.anova(dv=gene, between=['group','time'], ss_type=1, data=deg_df[['group','time',gene]])\n",
    "    reject, corrected_pval = pg.multicomp(results['p-unc'], method='fdr_bh')\n",
    "    if corrected_pval[0] < 0.05:\n",
    "        DEG_anova.append(gene)\n",
    "len(DEG_anova) #3852"
   ]
  },
  {
   "cell_type": "code",
   "execution_count": 10,
   "id": "398ddcb2",
   "metadata": {},
   "outputs": [
    {
     "data": {
      "text/plain": [
       "6517"
      ]
     },
     "execution_count": 10,
     "metadata": {},
     "output_type": "execute_result"
    }
   ],
   "source": [
    "# Stationary test (Augemented Dickey-Fuller test)\n",
    "from statsmodels.tsa.stattools import adfuller\n",
    "\n",
    "osc_df = pd.DataFrame(columns=deg_df.columns[2:])\n",
    "for t in [0, 3, 6, 12, 18, 24, 27, 30, 36, 42, 48]:\n",
    "    osc_df.loc[t] = np.mean(deg_df[deg_df.columns[2:]][deg_df.time==str(t)],axis=0)\n",
    "\n",
    "nonstationary = []\n",
    "for gene in osc_df.T.index:\n",
    "    if adfuller(osc_df.T.loc[gene])[1] >= 0.05 :\n",
    "        nonstationary.append(gene)\n",
    "len(nonstationary) #6517"
   ]
  },
  {
   "cell_type": "code",
   "execution_count": 41,
   "id": "3b0ae3da",
   "metadata": {},
   "outputs": [
    {
     "name": "stdout",
     "output_type": "stream",
     "text": [
      "1154\n"
     ]
    },
    {
     "data": {
      "text/plain": [
       "2650"
      ]
     },
     "execution_count": 41,
     "metadata": {},
     "output_type": "execute_result"
    }
   ],
   "source": [
    "# Oscillation test (Cosinor analysis-24 periodicity)\n",
    "from CosinorPy import cosinor\n",
    "import cosinorpy\n",
    "\n",
    "cosinor_results = pd.DataFrame()\n",
    "osc_df = osc_df.T\n",
    "for gene in osc_df.index:\n",
    "    cosinor_df = pd.DataFrame({'x':osc_df.columns, 'y':osc_df.loc[gene].values, 'test':['test1']*11})\n",
    "    results = cosinorpy.fit_group(cosinor_df, period=24, plot_on=False)\n",
    "    results['test'] = gene\n",
    "    cosinor_results = pd.concat([cosinor_results, results])\n",
    "oscillation_genes = cosinor_results[cosinor_results.p < 0.05]['test'].values.tolist()\n",
    "print(len(oscillation_genes)) #871\n",
    "\n",
    "cosinor_results_BS = pd.DataFrame()\n",
    "for gene in osc_df.index:\n",
    "    cosinor_df = pd.DataFrame({'x':osc_df.columns[:6], 'y':osc_df[osc_df.columns[:6]].loc[gene].values, 'test':['test1']*6})\n",
    "    results = cosinorpy.fit_group(cosinor_df, period=24, plot_on=False)\n",
    "    results['test'] = gene\n",
    "    cosinor_results_BS = pd.concat([cosinor_results_BS, results]) \n",
    "oscillation_genes_BS = cosinor_results_BS[cosinor_results_BS.p < 0.05]['test'].values.tolist()\n",
    "len(oscillation_genes_BS) #1191"
   ]
  },
  {
   "cell_type": "markdown",
   "id": "ea7f7959",
   "metadata": {},
   "source": [
    "### Network construction"
   ]
  },
  {
   "cell_type": "code",
   "execution_count": 46,
   "id": "3fdbcd7f",
   "metadata": {},
   "outputs": [
    {
     "name": "stdout",
     "output_type": "stream",
     "text": [
      "517\n"
     ]
    }
   ],
   "source": [
    "G = nx.Graph()\n",
    "DEGs = list(set(DEG_anova).intersection(set(nonstationary)).intersection(set(oscillation_genes_BS)))\n",
    "print(len(DEGs))\n",
    "G.add_nodes_from(DEGs) #517"
   ]
  },
  {
   "cell_type": "code",
   "execution_count": 47,
   "id": "789f848f",
   "metadata": {},
   "outputs": [],
   "source": [
    "# Phase dataframe\n",
    "for t in set(sample_info.time):\n",
    "    vars()['T'+str(t)+'_df'] = exp_df[sample_info[sample_info.time == t].index].loc[DEGs]"
   ]
  },
  {
   "cell_type": "code",
   "execution_count": 48,
   "id": "ace89add",
   "metadata": {
    "collapsed": true
   },
   "outputs": [
    {
     "name": "stderr",
     "output_type": "stream",
     "text": [
      "100%|██████████| 517/517 [00:26<00:00, 19.29it/s]\n",
      "100%|██████████| 517/517 [00:25<00:00, 20.11it/s] \n",
      "100%|██████████| 517/517 [00:26<00:00, 19.83it/s]\n",
      "100%|██████████| 517/517 [00:25<00:00, 20.09it/s]\n",
      "100%|██████████| 517/517 [00:26<00:00, 19.58it/s]\n",
      "100%|██████████| 517/517 [00:25<00:00, 20.10it/s]\n",
      "100%|██████████| 517/517 [00:25<00:00, 20.42it/s]\n",
      "100%|██████████| 517/517 [00:27<00:00, 18.99it/s]\n",
      "100%|██████████| 517/517 [00:25<00:00, 20.35it/s] \n",
      "100%|██████████| 517/517 [00:26<00:00, 19.56it/s] \n",
      "100%|██████████| 517/517 [00:26<00:00, 19.88it/s] \n",
      "100%|██████████| 517/517 [00:26<00:00, 19.61it/s]\n",
      "100%|██████████| 517/517 [00:25<00:00, 20.44it/s] \n",
      "100%|██████████| 517/517 [00:26<00:00, 19.72it/s]\n",
      "100%|██████████| 517/517 [00:25<00:00, 20.27it/s]\n"
     ]
    }
   ],
   "source": [
    "# Make the edges\n",
    "from tqdm import tqdm\n",
    "\n",
    "for t in set(sample_info.time):\n",
    "    df = vars()['T'+str(t)+'_df']\n",
    "    edges = []\n",
    "    for i in tqdm(range(len(df.index))):\n",
    "        for j in range(len(df.index)):\n",
    "            if i < j :\n",
    "                r, p = scipy.stats.pearsonr(df.iloc[i],df.iloc[j])\n",
    "                if p < 0.05:\n",
    "                    edges.append((df.index[i], df.index[j], r))\n",
    "                else: edges.append((df.index[i], df.index[j], 0))\n",
    "    vars()['T'+str(t)+'_edges'] = edges\n",
    "    vars()['T'+str(t)+'_filtered_edges'] = [edge for edge in vars()['T'+str(t)+'_edges'] if edge[2] != 0]\n",
    "    \n",
    "    vars()['G_T'+str(t)] = G.copy()\n",
    "    vars()['G_T'+str(t)].add_weighted_edges_from(vars()['T'+str(t)+'_filtered_edges'])    "
   ]
  },
  {
   "cell_type": "markdown",
   "id": "ff514226",
   "metadata": {},
   "source": [
    "### Network topology analysis"
   ]
  },
  {
   "cell_type": "code",
   "execution_count": 49,
   "id": "e3b2a0a1",
   "metadata": {},
   "outputs": [],
   "source": [
    "clustering_coeff = {'BS':[], 'SR':[]}\n",
    "for t in sorted(set(sample_info.time)):\n",
    "    if t < 25 : clustering_coeff['BS'].append(np.average(list(nx.clustering(vars()['G_T'+str(t)], weight='weight').values())))\n",
    "    elif t < 50 : clustering_coeff['SR'].append(np.average(list(nx.clustering(vars()['G_T'+str(t)], weight='weight').values())))"
   ]
  },
  {
   "cell_type": "code",
   "execution_count": 50,
   "id": "5af227c6",
   "metadata": {},
   "outputs": [],
   "source": [
    "assortativity = {'BS':[], 'SR':[]}\n",
    "for t in sorted(set(sample_info.time)):\n",
    "    if t < 25 : assortativity['BS'].append(nx.degree_pearson_correlation_coefficient(vars()['G_T'+str(t)], weight='weight'))\n",
    "    elif t < 50 :assortativity['SR'].append(nx.degree_pearson_correlation_coefficient(vars()['G_T'+str(t)], weight='weight'))"
   ]
  },
  {
   "cell_type": "code",
   "execution_count": 51,
   "id": "24a761e6",
   "metadata": {},
   "outputs": [],
   "source": [
    "from __future__ import division\n",
    "\n",
    "def centrality_distribution(G):\n",
    "    centrality = nx.eigenvector_centrality_numpy(G, weight='weight').values()\n",
    "    centrality = list(centrality)\n",
    "    centrality = np.array(centrality) / sum(centrality)\n",
    "    return centrality\n",
    "\n",
    "def graph_entropy(dist):\n",
    "    dist = np.asarray(dist)\n",
    "    ent = np.nansum( dist *  np.log2( 1/dist ) )\n",
    "    return ent\n",
    "\n",
    "entropy = {'BS':[],'SR':[]}\n",
    "for t in sorted(set(sample_info.time)):\n",
    "    d = centrality_distribution(vars()['G_T'+str(t)])\n",
    "    if t < 25 : entropy['BS'].append(graph_entropy(d))\n",
    "    elif t < 50 : entropy['SR'].append(graph_entropy(d))"
   ]
  },
  {
   "cell_type": "code",
   "execution_count": 52,
   "id": "f31bab1b",
   "metadata": {},
   "outputs": [],
   "source": [
    "modularity = {'BS':[], 'SR':[]}\n",
    "for t in sorted(set(sample_info.time)):\n",
    "    if t < 25 : modularity['BS'].append(nx.community.modularity(vars()['G_T'+str(t)], nx.community.label_propagation_communities(vars()['G_T'+str(t)])))\n",
    "    elif t < 50 : modularity['SR'].append(nx.community.modularity(vars()['G_T'+str(t)], nx.community.label_propagation_communities(vars()['G_T'+str(t)])))"
   ]
  },
  {
   "cell_type": "markdown",
   "id": "0a122c2c",
   "metadata": {},
   "source": [
    "### Sleep homeostasis - Circadian effects"
   ]
  },
  {
   "cell_type": "code",
   "execution_count": 64,
   "id": "a2522683",
   "metadata": {},
   "outputs": [],
   "source": [
    "# Linear mixed-effects model\n",
    "\n",
    "import math\n",
    "from scipy.optimize import curve_fit\n",
    "\n",
    "def fillna(data, col=[i+1 for i in range(12)]):\n",
    "    df = pd.DataFrame(data, columns=col)\n",
    "    df = df.T.interpolate()\n",
    "    df = df.fillna(method='ffill') #fillna with previous time value\n",
    "    df = df.fillna(method='bfill') #fillna with next time value\n",
    "    return df.T\n",
    "\n",
    "def func(x, a, b, c, d, e):\n",
    "    return a + b*np.log(x) + c*np.cos(2*math.pi*(x+d)/24) + e\n",
    "\n",
    "def exponential_func(x, a, b, c):\n",
    "    return a - b*np.log2(c*x)"
   ]
  },
  {
   "cell_type": "code",
   "execution_count": 65,
   "id": "bcf3c42b",
   "metadata": {},
   "outputs": [
    {
     "data": {
      "image/png": "[encoded data removed]",
      "text/plain": [
       "<Figure size 864x432 with 2 Axes>"
      ]
     },
     "metadata": {},
     "output_type": "display_data"
    }
   ],
   "source": [
    "# Dynamics in Clustering coefficient for normal sleep mouse\n",
    "\n",
    "def func(x, a, b, c, e):\n",
    "    d = 2 * math.pi\n",
    "    return a + b*np.log(x) + c*np.cos(2*math.pi*(x-d)/24) + e\n",
    "\n",
    "sns.set(rc={\"figure.figsize\":(12, 6), 'axes.edgecolor': 'lightgrey', 'axes.facecolor':'None'}, font_scale=1.1)\n",
    "xdata = np.arange(1,13)\n",
    "df_night = pd.DataFrame(clustering_coeff['BS'][:4]).T #3,6,12\n",
    "df_day = pd.DataFrame(clustering_coeff['BS'][3:]).T #12,18,24\n",
    "df_night.columns = [1,3,6,11]; df_day.columns = [1,6,11]\n",
    "popt_night, pcov_night = curve_fit(func, xdata, fillna(df_night).values[0], absolute_sigma=True)\n",
    "popt_day, pcov_day = curve_fit(func, xdata, fillna(df_day).values[0], absolute_sigma=True)\n",
    "popt_S_night, pcov_S_night = curve_fit(exponential_func, xdata, fillna(df_night).values[0])\n",
    "popt_S_day, pcov_S_day = curve_fit(exponential_func, xdata, fillna(df_day).values[0])\n",
    "\n",
    "fig, (ax1, ax2) = plt.subplots(2,1,sharex=True)\n",
    "fig.subplots_adjust(hspace=0.05)\n",
    "ax1.scatter([0,3,6,12,18,24], np.concatenate([df_night.values[0], df_day.values[0][1:]]), color=sns.color_palette('Set2')[-1])\n",
    "estimated_values = np.concatenate([func(np.arange(1,13),popt_night[0],popt_night[1],popt_night[2],popt_night[3]), func(np.arange(1,13),popt_day[0],popt_day[1],popt_day[2],popt_day[3])])\n",
    "smoothed_values = pd.Series(estimated_values).rolling(window=5, min_periods=1, center=True).mean()\n",
    "smoothed_values.fillna(method='bfill', inplace=True)  \n",
    "smoothed_values.fillna(method='ffill', inplace=True)\n",
    "smoothed_values = np.concatenate([[smoothed_values[0]],smoothed_values])\n",
    "ax1.plot(np.arange(0,25), smoothed_values, color='black', label='Baseline')\n",
    "ax1.axvspan(0, 12, color='lightgray', alpha=0.3)\n",
    "\n",
    "estimated_S = np.concatenate([popt_night[1]*np.log(np.arange(0,13)+1), popt_day[1]*np.log(np.arange(1,13)+1)])\n",
    "estimated_C = np.concatenate([popt_night[2]*np.cos(2*math.pi*(np.arange(0,13)-2*math.pi)/24), popt_day[2]*np.cos(2*math.pi*(np.arange(1,13)-2*math.pi)/24)])\n",
    "smoothed_S = pd.Series(estimated_S).rolling(window=5, min_periods=1, center=True).mean()\n",
    "smoothed_C = pd.Series(estimated_C).rolling(window=5, min_periods=1, center=True).mean()\n",
    "smoothed_S.fillna(method='bfill', inplace=True); smoothed_S.fillna(method='ffill', inplace=True)\n",
    "smoothed_C.fillna(method='bfill', inplace=True); smoothed_C.fillna(method='ffill', inplace=True)\n",
    "ax2.plot(np.arange(0,25), smoothed_S, color='blue', label='Process S') #homeostasis\n",
    "ax2.plot(np.arange(0,25), smoothed_C, color='green', label='Process C') #circadian\n",
    "ax2.axvspan(0, 12, color='lightgray', alpha=0.3)\n",
    "\n",
    "ax1.spines['bottom'].set_visible(False); ax2.spines['top'].set_visible(False)\n",
    "ax1.xaxis.tick_top(); ax2.xaxis.tick_bottom()\n",
    "ax1.tick_params(labeltop=False)\n",
    "kwargs = dict(marker=[(-1,-0.5),(1,0.5)], markersize=12, linestyle='none', color='k', mec='k', mew=1, clip_on=False)\n",
    "ax1.plot([0,1],[0,0], transform=ax1.transAxes, **kwargs)\n",
    "ax2.plot([0,1],[1,1], transform=ax2.transAxes, **kwargs)\n",
    "\n",
    "fig.legend(loc='upper right', bbox_to_anchor=(1, 1), bbox_transform=ax1.transAxes, fontsize=10, frameon=False)\n",
    "plt.xlabel('Time'); fig.text(0.04, 0.5, 'Value', va='center', rotation='vertical')\n",
    "plt.xticks([0,3,6,12,18,24])\n",
    "fig.suptitle(\"Clustering coefficient\", fontsize=15)\n",
    "plt.show()"
   ]
  },
  {
   "cell_type": "code",
   "execution_count": 66,
   "id": "73439026",
   "metadata": {},
   "outputs": [
    {
     "data": {
      "image/png": "[encoded data removed]",
      "text/plain": [
       "<Figure size 864x432 with 2 Axes>"
      ]
     },
     "metadata": {},
     "output_type": "display_data"
    }
   ],
   "source": [
    "# Dynamics in Clustering coefficient for sleep deprivation mouse\n",
    "\n",
    "def func(x, a, b, c, e):\n",
    "    d = 1/2 * math.pi\n",
    "    return a + b*np.log(x) + c*np.cos(2*math.pi*(x-d)/24) + e\n",
    "\n",
    "sns.set(rc={\"figure.figsize\":(12, 6), 'axes.edgecolor': 'lightgrey', 'axes.facecolor':'None'}, font_scale=1.1)\n",
    "xdata = np.arange(1,13)\n",
    "df_night = pd.DataFrame(np.concatenate([clustering_coeff['BS'][-1:],clustering_coeff['SR'][:2]])).T #24,27,30\n",
    "df_middle = pd.DataFrame(clustering_coeff['SR'][1:3]).T #30,36\n",
    "df_day = pd.DataFrame(clustering_coeff['SR'][2:]).T #36,42,48\n",
    "df_night.columns = [1,4,7]; df_day.columns = [1,6,11]; df_middle.columns = [1,7]\n",
    "popt_night, pcov_night = curve_fit(func, np.arange(1,7), fillna(df_night, col=[i+1 for i in range(6)]).values[0], absolute_sigma=True)\n",
    "popt_day, pcov_day = curve_fit(func, xdata, fillna(df_day).values[0], absolute_sigma=True)\n",
    "popt_middle, pcov_middle = curve_fit(func, np.arange(1,7), fillna(df_middle, col=[i+1 for i in range(6)]).values[0], absolute_sigma=True)\n",
    "popt_S_night, pcov_S_night = curve_fit(exponential_func, xdata, np.concatenate([fillna(df_night, col=[i+1 for i in range(6)]).values[0], fillna(df_middle, col=[i+1 for i in range(6)]).values[0]]))\n",
    "popt_S_day, pcov_S_day = curve_fit(exponential_func, xdata, fillna(df_day).values[0])\n",
    "\n",
    "fig, (ax1, ax2) = plt.subplots(2,1,sharex=True)\n",
    "fig.subplots_adjust(hspace=0.05)\n",
    "ax1.scatter([0,3,6,12,18,24], np.concatenate([df_night.values[0], df_day.values[0]]), color=sns.color_palette('Set2')[3])\n",
    "estimated_values = np.concatenate([func(np.arange(1,7),popt_night[0],popt_night[1],popt_night[2],popt_night[3]), func(np.arange(1,7),popt_middle[0],popt_middle[1],popt_middle[2],popt_middle[3]), func(np.arange(1,13),popt_day[0],popt_day[1],popt_day[2],popt_day[3])])\n",
    "smoothed_values = pd.Series(estimated_values).rolling(window=5, min_periods=1, center=True).mean()\n",
    "smoothed_values.fillna(method='bfill', inplace=True)  \n",
    "smoothed_values.fillna(method='ffill', inplace=True)\n",
    "smoothed_values = np.concatenate([[smoothed_values[0]], smoothed_values])\n",
    "ax1.plot(np.arange(0,25), smoothed_values, color='black', label='Sleep deprivation')\n",
    "ax1.axvspan(0, 6, color=sns.color_palette('Accent')[2], alpha=0.3)\n",
    "ax1.axvspan(6, 12, color='lightgray', alpha=0.3)\n",
    "\n",
    "estimated_S = np.concatenate([popt_night[1]*np.log(np.arange(0,7)+1), popt_middle[1]*np.log(np.arange(1,7)+1)*10**8, popt_day[1]*np.log(np.arange(1,13)+1)*10])\n",
    "estimated_C = np.concatenate([popt_night[2]*np.cos(2*math.pi*(np.arange(0,13)-1/2*math.pi)/24), popt_day[2]*np.cos(2*math.pi*(np.arange(1,13)-1/2*math.pi)/24)])\n",
    "smoothed_S = pd.Series(estimated_S).rolling(window=5, min_periods=1, center=True).mean()\n",
    "smoothed_C = pd.Series(estimated_C).rolling(window=5, min_periods=1, center=True).mean()\n",
    "smoothed_S.fillna(method='bfill', inplace=True); smoothed_S.fillna(method='ffill', inplace=True)\n",
    "smoothed_C.fillna(method='bfill', inplace=True); smoothed_C.fillna(method='ffill', inplace=True)\n",
    "ax2.plot(np.arange(0,25), smoothed_S, color='blue', label='Process S') #homeostasis\n",
    "ax2.plot(np.arange(0,25), smoothed_C, color='green', label='Process C') #circadian\n",
    "ax2.axvspan(0, 6, color=sns.color_palette('Accent')[2], alpha=0.3)\n",
    "ax2.axvspan(6, 12, color='lightgray', alpha=0.3)\n",
    "\n",
    "ax1.spines['bottom'].set_visible(False); ax2.spines['top'].set_visible(False)\n",
    "ax1.xaxis.tick_top(); ax2.xaxis.tick_bottom()\n",
    "ax1.tick_params(labeltop=False)\n",
    "kwargs = dict(marker=[(-1,-0.5),(1,0.5)], markersize=12, linestyle='none', color='k', mec='k', mew=1, clip_on=False)\n",
    "ax1.plot([0,1],[0,0], transform=ax1.transAxes, **kwargs)\n",
    "ax2.plot([0,1],[1,1], transform=ax2.transAxes, **kwargs)\n",
    "\n",
    "fig.legend(loc='upper left', bbox_to_anchor=(0.8, 0.8), bbox_transform=ax1.transAxes, fontsize=10, frameon=False)\n",
    "plt.xlabel('Time'); fig.text(0.04, 0.5, 'Value', va='center', rotation='vertical')\n",
    "plt.xticks([0,3,6,12,18,24])\n",
    "fig.suptitle(\"Clustering coefficient\", fontsize=15)\n",
    "plt.show()"
   ]
  }
 ],
 "metadata": {
  "kernelspec": {
   "display_name": "Python 3",
   "language": "python",
   "name": "python3"
  },
  "language_info": {
   "codemirror_mode": {
    "name": "ipython",
    "version": 3
   },
   "file_extension": ".py",
   "mimetype": "text/x-python",
   "name": "python",
   "nbconvert_exporter": "python",
   "pygments_lexer": "ipython3",
   "version": "3.8.5"
  }
 },
 "nbformat": 4,
 "nbformat_minor": 5
}
