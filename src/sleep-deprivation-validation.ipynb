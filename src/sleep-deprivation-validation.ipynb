{
 "cells": [
  {
   "cell_type": "code",
   "execution_count": 2,
   "id": "9720e8c6",
   "metadata": {},
   "outputs": [],
   "source": [
    "import warnings\n",
    "warnings.filterwarnings(action='ignore') # To show code clearly"
   ]
  },
  {
   "cell_type": "code",
   "execution_count": 3,
   "id": "3f3012df",
   "metadata": {},
   "outputs": [],
   "source": [
    "import os\n",
    "import csv\n",
    "import scipy\n",
    "import numpy as np\n",
    "import pandas as pd\n",
    "import networkx as nx\n",
    "import seaborn as sns\n",
    "import matplotlib.pyplot as plt"
   ]
  },
  {
   "cell_type": "code",
   "execution_count": 5,
   "id": "650a2bcc",
   "metadata": {},
   "outputs": [],
   "source": [
    "import GEOparse\n",
    "gse = GEOparse.get_GEO(\"GSE140345\", annotate_gpl='GPL17021', silent=True)"
   ]
  },
  {
   "cell_type": "markdown",
   "id": "07c4d018",
   "metadata": {},
   "source": [
    "### Pre-processing"
   ]
  },
  {
   "cell_type": "code",
   "execution_count": 6,
   "id": "b3118f01",
   "metadata": {},
   "outputs": [],
   "source": [
    "sample_info_dict = {}\n",
    "for gsm_name, gsm in gse.gsms.items():\n",
    "    if ('RNA' in gsm.metadata['title'][0]) & (int(gsm.metadata['characteristics_ch1'][1].split(': ')[1]) < 74) :\n",
    "        if len(gsm.metadata['title'][0].split('_')) < 5:\n",
    "            sample_info_dict[gsm_name] = [gsm.metadata['characteristics_ch1'][2].split(': ')[1], int(gsm.metadata['characteristics_ch1'][1].split(': ')[1])]\n",
    "\n",
    "sample_info = pd.DataFrame.from_dict(sample_info_dict, orient='index', columns=['condition','time'])"
   ]
  },
  {
   "cell_type": "code",
   "execution_count": 7,
   "id": "81ca7223",
   "metadata": {},
   "outputs": [],
   "source": [
    "title_to_name = {}\n",
    "for gsm_name, gsm in gse.gsms.items():\n",
    "    title_to_name[gsm.metadata['title'][0]] = gsm_name\n",
    "    \n",
    "exp_df = pd.read_csv('../data/SD-GSE56931/GSE140345_RNA_level_all_genes.txt', sep='\\t|,')\n",
    "exp_df = exp_df.filter(items=[c for c in exp_df.columns if int(c.split('_')[1][1:]) < 74], axis=1)\n",
    "exp_df.columns = ['Gene','RNA_T24_NSD_T0N5'] + list(exp_df.columns[2:])\n",
    "exp_df.rename(columns=title_to_name, inplace=True)\n",
    "exp_df = exp_df[~exp_df['Gene'].str.contains('Rik')]\n",
    "exp_df = exp_df.set_index('Gene')\n",
    "exp_df.index = list(map(str.upper, exp_df.index))\n",
    "exp_df.loc['PISD',exp_df.columns] = exp_df.loc[['PISD']].sum().values\n",
    "exp_df = exp_df[~exp_df.index.duplicated(keep='first')]"
   ]
  },
  {
   "cell_type": "markdown",
   "id": "12912f0f",
   "metadata": {},
   "source": [
    "### DEG search"
   ]
  },
  {
   "cell_type": "code",
   "execution_count": 8,
   "id": "2e5541b7",
   "metadata": {},
   "outputs": [
    {
     "data": {
      "text/plain": [
       "3852"
      ]
     },
     "execution_count": 8,
     "metadata": {},
     "output_type": "execute_result"
    }
   ],
   "source": [
    "# ANOVA test\n",
    "import pingouin as pg\n",
    "\n",
    "deg_df = exp_df.T\n",
    "deg_df.insert(0, 'group', ['BS' if gsm in sample_info[sample_info.time < 25].index else 'SR' if gsm in sample_info[sample_info.time < 50].index else '-' for gsm in exp_df.T.index])\n",
    "deg_df.insert(1, 'time', [str(sample_info.loc[gsm]['time']) for gsm in exp_df.T.index])\n",
    "deg_df = deg_df[deg_df.group != '-']\n",
    "\n",
    "DEG_anova = []\n",
    "for gene in exp_df.index:\n",
    "    results = pg.anova(dv=gene, between=['group','time'], ss_type=1, data=deg_df[['group','time',gene]])\n",
    "    reject, corrected_pval = pg.multicomp(results['p-unc'], method='fdr_bh')\n",
    "    if corrected_pval[0] < 0.05:\n",
    "        DEG_anova.append(gene)\n",
    "len(DEG_anova) #3852"
   ]
  },
  {
   "cell_type": "code",
   "execution_count": 10,
   "id": "90b481e0",
   "metadata": {},
   "outputs": [
    {
     "data": {
      "text/plain": [
       "6517"
      ]
     },
     "execution_count": 10,
     "metadata": {},
     "output_type": "execute_result"
    }
   ],
   "source": [
    "# Stationary test (Augemented Dickey-Fuller test)\n",
    "from statsmodels.tsa.stattools import adfuller\n",
    "\n",
    "osc_df = pd.DataFrame(columns=deg_df.columns[2:])\n",
    "for t in [0, 3, 6, 12, 18, 24, 27, 30, 36, 42, 48]:\n",
    "    osc_df.loc[t] = np.mean(deg_df[deg_df.columns[2:]][deg_df.time==str(t)],axis=0)\n",
    "\n",
    "nonstationary = []\n",
    "for gene in osc_df.T.index:\n",
    "    if adfuller(osc_df.T.loc[gene])[1] >= 0.05 :\n",
    "        nonstationary.append(gene)\n",
    "len(nonstationary) #6517"
   ]
  },
  {
   "cell_type": "code",
   "execution_count": 41,
   "id": "45776afe",
   "metadata": {},
   "outputs": [
    {
     "name": "stdout",
     "output_type": "stream",
     "text": [
      "1154\n"
     ]
    },
    {
     "data": {
      "text/plain": [
       "2650"
      ]
     },
     "execution_count": 41,
     "metadata": {},
     "output_type": "execute_result"
    }
   ],
   "source": [
    "# Oscillation test (Cosinor analysis-24 periodicity)\n",
    "from CosinorPy import cosinor\n",
    "import cosinorpy\n",
    "\n",
    "cosinor_results = pd.DataFrame()\n",
    "osc_df = osc_df.T\n",
    "for gene in osc_df.index:\n",
    "    cosinor_df = pd.DataFrame({'x':osc_df.columns, 'y':osc_df.loc[gene].values, 'test':['test1']*11})\n",
    "    results = cosinorpy.fit_group(cosinor_df, period=24, plot_on=False)\n",
    "    results['test'] = gene\n",
    "    cosinor_results = pd.concat([cosinor_results, results])\n",
    "oscillation_genes = cosinor_results[cosinor_results.p < 0.05]['test'].values.tolist()\n",
    "print(len(oscillation_genes)) #871\n",
    "\n",
    "cosinor_results_BS = pd.DataFrame()\n",
    "for gene in osc_df.index:\n",
    "    cosinor_df = pd.DataFrame({'x':osc_df.columns[:6], 'y':osc_df[osc_df.columns[:6]].loc[gene].values, 'test':['test1']*6})\n",
    "    results = cosinorpy.fit_group(cosinor_df, period=24, plot_on=False)\n",
    "    results['test'] = gene\n",
    "    cosinor_results_BS = pd.concat([cosinor_results_BS, results]) \n",
    "oscillation_genes_BS = cosinor_results_BS[cosinor_results_BS.p < 0.05]['test'].values.tolist()\n",
    "len(oscillation_genes_BS) #1191"
   ]
  },
  {
   "cell_type": "markdown",
   "id": "41d37dba",
   "metadata": {},
   "source": [
    "### Network construction"
   ]
  },
  {
   "cell_type": "code",
   "execution_count": 46,
   "id": "0b398af9",
   "metadata": {},
   "outputs": [
    {
     "name": "stdout",
     "output_type": "stream",
     "text": [
      "517\n"
     ]
    }
   ],
   "source": [
    "G = nx.Graph()\n",
    "DEGs = list(set(DEG_anova).intersection(set(nonstationary)).intersection(set(oscillation_genes_BS)))\n",
    "print(len(DEGs))\n",
    "G.add_nodes_from(DEGs) #517"
   ]
  },
  {
   "cell_type": "code",
   "execution_count": 47,
   "id": "67d22b98",
   "metadata": {},
   "outputs": [],
   "source": [
    "# Phase dataframe\n",
    "for t in set(sample_info.time):\n",
    "    vars()['T'+str(t)+'_df'] = exp_df[sample_info[sample_info.time == t].index].loc[DEGs]"
   ]
  },
  {
   "cell_type": "code",
   "execution_count": 48,
   "id": "364dd777",
   "metadata": {
    "collapsed": true
   },
   "outputs": [
    {
     "name": "stderr",
     "output_type": "stream",
     "text": [
      "100%|██████████| 517/517 [00:26<00:00, 19.29it/s]\n",
      "100%|██████████| 517/517 [00:25<00:00, 20.11it/s] \n",
      "100%|██████████| 517/517 [00:26<00:00, 19.83it/s]\n",
      "100%|██████████| 517/517 [00:25<00:00, 20.09it/s]\n",
      "100%|██████████| 517/517 [00:26<00:00, 19.58it/s]\n",
      "100%|██████████| 517/517 [00:25<00:00, 20.10it/s]\n",
      "100%|██████████| 517/517 [00:25<00:00, 20.42it/s]\n",
      "100%|██████████| 517/517 [00:27<00:00, 18.99it/s]\n",
      "100%|██████████| 517/517 [00:25<00:00, 20.35it/s] \n",
      "100%|██████████| 517/517 [00:26<00:00, 19.56it/s] \n",
      "100%|██████████| 517/517 [00:26<00:00, 19.88it/s] \n",
      "100%|██████████| 517/517 [00:26<00:00, 19.61it/s]\n",
      "100%|██████████| 517/517 [00:25<00:00, 20.44it/s] \n",
      "100%|██████████| 517/517 [00:26<00:00, 19.72it/s]\n",
      "100%|██████████| 517/517 [00:25<00:00, 20.27it/s]\n"
     ]
    }
   ],
   "source": [
    "# Make the edges\n",
    "from tqdm import tqdm\n",
    "\n",
    "for t in set(sample_info.time):\n",
    "    df = vars()['T'+str(t)+'_df']\n",
    "    edges = []\n",
    "    for i in tqdm(range(len(df.index))):\n",
    "        for j in range(len(df.index)):\n",
    "            if i < j :\n",
    "                r, p = scipy.stats.pearsonr(df.iloc[i],df.iloc[j])\n",
    "                if p < 0.05:\n",
    "                    edges.append((df.index[i], df.index[j], r))\n",
    "                else: edges.append((df.index[i], df.index[j], 0))\n",
    "    vars()['T'+str(t)+'_edges'] = edges\n",
    "    vars()['T'+str(t)+'_filtered_edges'] = [edge for edge in vars()['T'+str(t)+'_edges'] if edge[2] != 0]\n",
    "    \n",
    "    vars()['G_T'+str(t)] = G.copy()\n",
    "    vars()['G_T'+str(t)].add_weighted_edges_from(vars()['T'+str(t)+'_filtered_edges'])    "
   ]
  },
  {
   "cell_type": "markdown",
   "id": "df64616a",
   "metadata": {},
   "source": [
    "### Network topology analysis"
   ]
  },
  {
   "cell_type": "code",
   "execution_count": 49,
   "id": "ee3eeaee",
   "metadata": {},
   "outputs": [],
   "source": [
    "clustering_coeff = {'BS':[], 'SR':[]}\n",
    "for t in sorted(set(sample_info.time)):\n",
    "    if t < 25 : clustering_coeff['BS'].append(np.average(list(nx.clustering(vars()['G_T'+str(t)], weight='weight').values())))\n",
    "    elif t < 50 : clustering_coeff['SR'].append(np.average(list(nx.clustering(vars()['G_T'+str(t)], weight='weight').values())))"
   ]
  },
  {
   "cell_type": "code",
   "execution_count": 50,
   "id": "8a41d2ff",
   "metadata": {},
   "outputs": [],
   "source": [
    "assortativity = {'BS':[], 'SR':[]}\n",
    "for t in sorted(set(sample_info.time)):\n",
    "    if t < 25 : assortativity['BS'].append(nx.degree_pearson_correlation_coefficient(vars()['G_T'+str(t)], weight='weight'))\n",
    "    elif t < 50 :assortativity['SR'].append(nx.degree_pearson_correlation_coefficient(vars()['G_T'+str(t)], weight='weight'))"
   ]
  },
  {
   "cell_type": "code",
   "execution_count": 51,
   "id": "ef0c2f56",
   "metadata": {},
   "outputs": [],
   "source": [
    "from __future__ import division\n",
    "\n",
    "def centrality_distribution(G):\n",
    "    centrality = nx.eigenvector_centrality_numpy(G, weight='weight').values()\n",
    "    centrality = list(centrality)\n",
    "    centrality = np.array(centrality) / sum(centrality)\n",
    "    return centrality\n",
    "\n",
    "def graph_entropy(dist):\n",
    "    dist = np.asarray(dist)\n",
    "    ent = np.nansum( dist *  np.log2( 1/dist ) )\n",
    "    return ent\n",
    "\n",
    "entropy = {'BS':[],'SR':[]}\n",
    "for t in sorted(set(sample_info.time)):\n",
    "    d = centrality_distribution(vars()['G_T'+str(t)])\n",
    "    if t < 25 : entropy['BS'].append(graph_entropy(d))\n",
    "    elif t < 50 : entropy['SR'].append(graph_entropy(d))"
   ]
  },
  {
   "cell_type": "code",
   "execution_count": 52,
   "id": "ba87c5e7",
   "metadata": {},
   "outputs": [],
   "source": [
    "modularity = {'BS':[], 'SR':[]}\n",
    "for t in sorted(set(sample_info.time)):\n",
    "    if t < 25 : modularity['BS'].append(nx.community.modularity(vars()['G_T'+str(t)], nx.community.label_propagation_communities(vars()['G_T'+str(t)])))\n",
    "    elif t < 50 : modularity['SR'].append(nx.community.modularity(vars()['G_T'+str(t)], nx.community.label_propagation_communities(vars()['G_T'+str(t)])))"
   ]
  },
  {
   "cell_type": "markdown",
   "id": "07da555b",
   "metadata": {},
   "source": [
    "### Sleep homeostasis - Circadian effects"
   ]
  }
 ],
 "metadata": {
  "kernelspec": {
   "display_name": "Python 3",
   "language": "python",
   "name": "python3"
  },
  "language_info": {
   "codemirror_mode": {
    "name": "ipython",
    "version": 3
   },
   "file_extension": ".py",
   "mimetype": "text/x-python",
   "name": "python",
   "nbconvert_exporter": "python",
   "pygments_lexer": "ipython3",
   "version": "3.8.5"
  }
 },
 "nbformat": 4,
 "nbformat_minor": 5
}
