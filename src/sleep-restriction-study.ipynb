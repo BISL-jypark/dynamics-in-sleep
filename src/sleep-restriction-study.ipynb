{
 "cells": [
  {
   "cell_type": "code",
   "execution_count": 1,
   "id": "3d03eff4",
   "metadata": {},
   "outputs": [],
   "source": [
    "import warnings\n",
    "warnings.filterwarnings(action='ignore') # To show code clearly"
   ]
  },
  {
   "cell_type": "code",
   "execution_count": 2,
   "id": "8ad2f8b6",
   "metadata": {},
   "outputs": [],
   "source": [
    "import os\n",
    "import csv\n",
    "import scipy\n",
    "import numpy as np\n",
    "import pandas as pd\n",
    "import networkx as nx\n",
    "import seaborn as sns\n",
    "import matplotlib.pyplot as plt"
   ]
  },
  {
   "cell_type": "code",
   "execution_count": 3,
   "id": "d76dbf09",
   "metadata": {},
   "outputs": [],
   "source": [
    "import GEOparse\n",
    "gse = GEOparse.get_GEO(\"GSE39445\", annotate_gpl='GPL15331', silent=True)"
   ]
  },
  {
   "cell_type": "markdown",
   "id": "c75bc614",
   "metadata": {},
   "source": [
    "### Pre-processing"
   ]
  },
  {
   "cell_type": "code",
   "execution_count": 4,
   "id": "ae064e59",
   "metadata": {},
   "outputs": [],
   "source": [
    "# Blood transcriptome data\n",
    "sample_info_dict = {}\n",
    "try : \n",
    "    for gsm_name, gsm in gse.gsms.items():\n",
    "        if len(gsm.metadata[\"title\"][0].split('_')) < 4 : \n",
    "            subject = gsm.metadata[\"title\"][0].split('_')[0]\n",
    "            timepoint = gsm.metadata[\"title\"][0].split('_')[2]\n",
    "        else :\n",
    "            subject = gsm.metadata[\"title\"][0].split('_')[1]\n",
    "            timepoint = gsm.metadata[\"title\"][0].split('_')[3]\n",
    "        for i in gsm.metadata[\"characteristics_ch1\"]:\n",
    "            if i.split(': ')[0] in ['sleepprotocol', 'hoursawake', 'timesampletaken', 'circadianphase']:\n",
    "                vars()[i.split(': ')[0]] = i.split(': ')[1]\n",
    "        sample_info_dict[gsm.metadata[\"geo_accession\"][0]] = [subject, sleepprotocol, timepoint, hoursawake, timesampletaken, circadianphase]     \n",
    "except:\n",
    "    print(gsm_name)\n",
    "col = ['subject', 'sleepprotocol', 'timepoint', 'hoursawake', 'timesampletaken', 'circadianphase']    \n",
    "sample_info = pd.DataFrame.from_dict(sample_info_dict, orient='index', columns=col)\n",
    "sample_info.loc['GSM969077']['circadianphase'] = '0' # manual curation"
   ]
  },
  {
   "cell_type": "code",
   "execution_count": 5,
   "id": "4c7c1a2d",
   "metadata": {},
   "outputs": [],
   "source": [
    "# Annotation table\n",
    "gpl = gse.gpls['GPL15331'].table.dropna(subset=['GENE_SYMBOL'])\n",
    "annot_table = gsm.annotate(gpl, annotation_column=\"GENE_SYMBOL\")\n",
    "annot_table = annot_table.drop(['VALUE'], axis=1)\n",
    "annot_table = annot_table.set_index('ID_REF')"
   ]
  },
  {
   "cell_type": "code",
   "execution_count": 6,
   "id": "45b0abae",
   "metadata": {},
   "outputs": [],
   "source": [
    "# Sleep condition groups\n",
    "SE = sample_info[sample_info['sleepprotocol']=='Sleep Extension'].index.tolist()\n",
    "SR = sample_info[sample_info['sleepprotocol']=='Sleep Restriction'].index.tolist()\n",
    "\n",
    "SE_df = gse.pivot_samples('VALUE')[SE] # Quantile normalized signal intensity\n",
    "SR_df = gse.pivot_samples('VALUE')[SR]"
   ]
  },
  {
   "cell_type": "code",
   "execution_count": 7,
   "id": "e40baea9",
   "metadata": {},
   "outputs": [],
   "source": [
    "annot_dict = {k:v['GENE_SYMBOL'] for k, v in annot_table.to_dict('index').items()}\n",
    "\n",
    "SE_df.rename(index=annot_dict, inplace=True)\n",
    "SE_df.drop((i for i in SE_df.index if type(i)==int), inplace=True)\n",
    "SE_df = SE_df.groupby(SE_df.index).mean() #19541\n",
    "\n",
    "SR_df.rename(index=annot_dict, inplace=True)\n",
    "SR_df.drop((i for i in SR_df.index if type(i)==int), inplace=True)\n",
    "SR_df = SR_df.groupby(SR_df.index).mean() #19541"
   ]
  },
  {
   "cell_type": "code",
   "execution_count": 8,
   "id": "894acc7d",
   "metadata": {},
   "outputs": [],
   "source": [
    "def fillna(data):\n",
    "    df = pd.DataFrame(data, columns=['T'+str(i+1) for i in range(10)])\n",
    "    df = df.T.interpolate()\n",
    "    df = df.fillna(method='ffill') #fillna with previous time value\n",
    "    df = df.fillna(method='bfill') #fillna with next time value\n",
    "    return df.T"
   ]
  },
  {
   "cell_type": "code",
   "execution_count": 9,
   "id": "df87aed8",
   "metadata": {},
   "outputs": [],
   "source": [
    "# Subject dataframe\n",
    "for subject in set(sample_info['subject']) :\n",
    "    for protocol in [\"Sleep Extension\", \"Sleep Restriction\"]:\n",
    "        df = sample_info[(sample_info['sleepprotocol']==protocol)&(sample_info['subject']==subject)]\n",
    "        if protocol == 'Sleep Extension' :\n",
    "            vars()[subject+'_SE'] = SE_df[df.index]\n",
    "            vars()[subject+'_SE'].columns = df.timepoint\n",
    "        elif protocol == 'Sleep Restriction' :\n",
    "            vars()[subject+'_SR'] = SR_df[df.index]\n",
    "            vars()[subject+'_SR'].columns = df.timepoint\n",
    "# Sleep Extension data is mission in Subjects AF0079, AF0091.\n",
    "\n",
    "for subject in set(sample_info['subject']) :\n",
    "    for protocol in [\"SE\", \"SR\"]:\n",
    "        vars()[subject+'_'+protocol+'_filled'] = fillna(vars()[subject+'_'+protocol])"
   ]
  },
  {
   "cell_type": "markdown",
   "id": "fbeec6b5",
   "metadata": {},
   "source": [
    "### DEG search"
   ]
  },
  {
   "cell_type": "code",
   "execution_count": 10,
   "id": "9974df3d",
   "metadata": {},
   "outputs": [],
   "source": [
    "# Mixed-model ANOVA\n",
    "import pingouin as pg\n",
    "\n",
    "DF = pd.DataFrame()\n",
    "for subject in set(sample_info.subject):\n",
    "    if subject not in ['AF0079','AF0091']:\n",
    "        df = sample_info[['subject','sleepprotocol','timepoint']]\n",
    "        df_se = pd.merge(df[(df['subject']==subject)&(df['sleepprotocol']=='Sleep Extension')], vars()[subject+'_SE_filled'].T, how='outer', left_on='timepoint', right_index=True)\n",
    "        df_se['subject'] = subject + '_SE'\n",
    "        df_se['sleepprotocol'] = df_se['sleepprotocol'].fillna('Sleep Extension')\n",
    "\n",
    "        df_sr = pd.merge(df[(df['subject']==subject)&(df['sleepprotocol']=='Sleep Restriction')], vars()[subject+'_SR_filled'].T, how='outer', left_on='timepoint', right_index=True)\n",
    "        df_sr['subject'] = subject + '_SR'\n",
    "        df_sr['sleepprotocol'] = df_sr['sleepprotocol'].fillna('Sleep Restriction')\n",
    "\n",
    "        DF = pd.concat([DF, df_se, df_sr])"
   ]
  },
  {
   "cell_type": "code",
   "execution_count": 11,
   "id": "82c886a6",
   "metadata": {},
   "outputs": [
    {
     "name": "stdout",
     "output_type": "stream",
     "text": [
      "762\n"
     ]
    }
   ],
   "source": [
    "DEG_anova = []\n",
    "if os.path.isfile('../data/SR-GSE39445/ANOVA762.csv'):\n",
    "    with open('../data/SR-GSE39445/ANOVA762.csv') as fr:\n",
    "        reader = csv.reader(fr)\n",
    "        for line in reader:\n",
    "            DEG_anova.append(line)\n",
    "    DEG_anova = DEG_anova[0]\n",
    "    print(len(DEG_anova))\n",
    "else :\n",
    "    for gene in DF.columns[3:]:\n",
    "        results = pg.mixed_anova(dv=gene, between='sleepprotocol', within='timepoint', subject='subject', data=DF[['subject','sleepprotocol','timepoint',gene]])\n",
    "        reject, corrected_pval = pg.multicomp(results['p-unc'], method='fdr_bh')\n",
    "        if corrected_pval[2] < 0.05:\n",
    "            DEG_anova.append(gene)\n",
    "    print(len(DEG_anova)) #762"
   ]
  },
  {
   "cell_type": "markdown",
   "id": "7ca2b69c",
   "metadata": {},
   "source": [
    "### Stationary test"
   ]
  },
  {
   "cell_type": "code",
   "execution_count": 12,
   "id": "9478f0b5",
   "metadata": {},
   "outputs": [
    {
     "name": "stdout",
     "output_type": "stream",
     "text": [
      "19529\n"
     ]
    }
   ],
   "source": [
    "# Stationary test (Augmented Dickey-Fuller test)\n",
    "from statsmodels.tsa.stattools import adfuller\n",
    "\n",
    "if os.path.isfile('../data/SR-GSE39445/nonstationary.csv'):\n",
    "    nonstationary_list = []\n",
    "    with open('../data/SR-GSE39445/nonstationary.csv', 'r') as fr :\n",
    "        reader = csv.reader(fr)\n",
    "        for line in reader:\n",
    "            nonstationary_list.append(line) \n",
    "    nonstationary_list = nonstationary_list[0]\n",
    "    print(len(nonstationary_list))\n",
    "else :\n",
    "    nonstationary = dict()\n",
    "    for subject in set(sample_info['subject']) :\n",
    "        df = vars()[subject+'_SE']\n",
    "        if len(df.columns) == 10 :  # samples should have all time-points\n",
    "            sns = []\n",
    "            try :\n",
    "                for i in df.index:\n",
    "                    if adfuller(df.loc[i])[1] >= 0.05 :\n",
    "                        sns.append(i)\n",
    "                nonstationary[subject] = sns\n",
    "            except : print(\"X\",subject, i)\n",
    "\n",
    "    nonstationary_list = set.union(*map(set, nonstationary.values()))\n",
    "    len(nonstationary_list) #19529"
   ]
  },
  {
   "cell_type": "markdown",
   "id": "38dd9528",
   "metadata": {},
   "source": [
    "### Oscillation test"
   ]
  },
  {
   "cell_type": "code",
   "execution_count": 14,
   "id": "cd89c4fa",
   "metadata": {},
   "outputs": [
    {
     "name": "stdout",
     "output_type": "stream",
     "text": [
      "17783 17912\n",
      "17771\n"
     ]
    }
   ],
   "source": [
    "# Cosinor analysis - 24 periodicity\n",
    "from CosinorPy import cosinor, cosinor1\n",
    "\n",
    "if os.path.isfile('../data/SR-GSE39445/oscillation_SE.csv') & os.path.isfile('../data/SR-GSE39445/oscillation_SR.csv') :\n",
    "    oscillation_SE = []; oscillation_SR = []\n",
    "    with open('../data/SR-GSE39445/oscillation_SE.csv','r') as fr:\n",
    "        reader = csv.reader(fr)\n",
    "        for line in reader:\n",
    "            oscillation_SE.append(line)\n",
    "    oscillation_SE = oscillation_SE[0]\n",
    "    \n",
    "    with open('../data/SR-GSE39445/oscillation_SR.csv','r') as fr:\n",
    "        reader = csv.reader(fr)\n",
    "        for line in reader:\n",
    "            oscillation_SR.append(line)\n",
    "    oscillation_SR = oscillation_SR[0]\n",
    "    print(len(oscillation_SE), len(oscillation_SR)) #17783, 17912\n",
    "\n",
    "else :\n",
    "    cosinor_dict = {}\n",
    "    for subject in set(sample_info['subject']) :\n",
    "        cosinor_dict[subject] = {}\n",
    "        for group in [\"SE\",\"SR\"]:\n",
    "            cosinor_dict[subject][group] = pd.DataFrame()\n",
    "            if len(vars()[subject+\"_\"+group].columns) == 0 : pass\n",
    "            else :\n",
    "                df = fillna(vars()[subject+\"_\"+group])\n",
    "                for i in vars()[subject+\"_\"+group].index :\n",
    "                    cosinor_df = pd.DataFrame({'x':np.linspace(0,30,10), 'y':df.loc[i].values, 'test':['test1']*10})\n",
    "                    results = cosinor.fit_group(cosinor_df, period=24, plot=False)\n",
    "                    df_best_models = cosinor.get_best_models(cosinor_df, results)\n",
    "                    df_best_models['test'] = i\n",
    "                    cosinor_dict[subject][group] = pd.concat([cosinor_dict[subject][group], df_best_models])\n",
    "                    \n",
    "    for group in [\"SE\",\"SR\"]:\n",
    "        vars()[\"oscillation_\"+group] = []\n",
    "        for subject, cosinor_res in cosinor_dict.items():\n",
    "            if len(cosinor_res[group]) != 0 :\n",
    "                vars()[\"oscillation_\"+group].extend(cosinor_res[group][cosinor_res[group]['p'] < 0.05]['test'])\n",
    "\n",
    "oscillation_genes = set(oscillation_SE).intersection(set(nonstationary_list))\n",
    "print(len(oscillation_genes)) #17771"
   ]
  },
  {
   "cell_type": "markdown",
   "id": "719f3696",
   "metadata": {},
   "source": [
    "### Network analysis"
   ]
  },
  {
   "cell_type": "code",
   "execution_count": 15,
   "id": "bf7a4924",
   "metadata": {},
   "outputs": [
    {
     "name": "stdout",
     "output_type": "stream",
     "text": [
      "732\n"
     ]
    }
   ],
   "source": [
    "# Gene co-expressed network\n",
    "G = nx.Graph()\n",
    "DEGs = list(set(oscillation_genes).intersection(set(DEG_anova))) # You can get DEGs from ./data/SR-GSE39445/DEG732b.csv\n",
    "G.add_nodes_from(DEGs) #732"
   ]
  },
  {
   "cell_type": "code",
   "execution_count": 19,
   "id": "846188eb",
   "metadata": {},
   "outputs": [],
   "source": [
    "# Phase dataframe\n",
    "protocols = []\n",
    "for time in ['T'+str(i+1) for i in range(10)]:\n",
    "    for sleep in ['Sleep Extension', 'Sleep Restriction']:\n",
    "        if sleep == 'Sleep Extension': protocol = \"SE\"\n",
    "        elif sleep == 'Sleep Restriction': protocol = \"SR\"\n",
    "        name = protocol+'_'+time\n",
    "        vars()[name] = sample_info[(sample_info.sleepprotocol == sleep) & (sample_info.timepoint == time)].index\n",
    "        vars()[name+'_df'] = vars()[protocol+'_df'][vars()[name]].loc[DEGs]\n",
    "        protocols.append(name)"
   ]
  },
  {
   "cell_type": "code",
   "execution_count": null,
   "id": "3eb15cc6",
   "metadata": {},
   "outputs": [],
   "source": [
    "# Make the edges\n",
    "from tqdm import tqdm\n",
    "\n",
    "for protocol in protocols:\n",
    "    if os.path.isfile('../data/SR-GSE39445/network/{}_edges.csv'.format(protocol)):\n",
    "        vars()[protocol+'_edges'] = []\n",
    "        with open('../data/SR-GSE39445/network/{}_edges.csv'.format(protocol)) as fr:\n",
    "            reader = csv.reader(fr)\n",
    "            for line in reader:\n",
    "                vars()[protocol+'_edges'].append(line)\n",
    "        vars()[protocol+'_edges'] = vars()[protocol+'_edges'][0]\n",
    "        vars()[protocol+'_filtered_edge'] = [eval(edge) for edge in vars()[protocol+'_edges'] if edge.split(', ')[-1][:-1] != '0']\n",
    "        \n",
    "    else:\n",
    "        df = vars()[protocol+'_df']\n",
    "        edges = []\n",
    "        for i in tqdm(range(len(df.index))):\n",
    "            for j in range(len(df.index)):\n",
    "                if i < j :\n",
    "                    r, p = scipy.stats.pearsonr(df.iloc[i], df.iloc[j])\n",
    "                    if p < 0.05:\n",
    "                        edges.append((df.index[i], df.index[j], r)) \n",
    "                    else: edges.append((df.index[i], df.index[j], 0))\n",
    "        vars()[protocol+'_edges'] = edges\n",
    "        vars()[protocol+'_filtered_edge'] = [edge for edge in vars()[protocol+'_edges'] if edge[2] != 0]\n",
    "        \n",
    "    globals()[protocol+'_graph'] = G.copy() # nodes : 732\n",
    "    globals()[protocol+'_graph'].add_weighted_edges_from(vars()[protocol+'_filtered_edge'])"
   ]
  },
  {
   "cell_type": "markdown",
   "id": "3509dd8f",
   "metadata": {},
   "source": [
    "### Network topological features"
   ]
  },
  {
   "cell_type": "code",
   "execution_count": null,
   "id": "e0d2f330",
   "metadata": {},
   "outputs": [],
   "source": []
  }
 ],
 "metadata": {
  "kernelspec": {
   "display_name": "Python 3",
   "language": "python",
   "name": "python3"
  },
  "language_info": {
   "codemirror_mode": {
    "name": "ipython",
    "version": 3
   },
   "file_extension": ".py",
   "mimetype": "text/x-python",
   "name": "python",
   "nbconvert_exporter": "python",
   "pygments_lexer": "ipython3",
   "version": "3.8.5"
  }
 },
 "nbformat": 4,
 "nbformat_minor": 5
}
