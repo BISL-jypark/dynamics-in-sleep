{
 "cells": [
  {
   "cell_type": "code",
   "execution_count": 1,
   "id": "93633843",
   "metadata": {},
   "outputs": [],
   "source": [
    "import warnings\n",
    "warnings.filterwarnings(action='ignore') # To show code clearly"
   ]
  },
  {
   "cell_type": "code",
   "execution_count": 2,
   "id": "caf39e96",
   "metadata": {},
   "outputs": [],
   "source": [
    "import os\n",
    "import csv\n",
    "import scipy\n",
    "import numpy as np\n",
    "import pandas as pd\n",
    "import networkx as nx\n",
    "import seaborn as sns\n",
    "import matplotlib.pyplot as plt"
   ]
  },
  {
   "cell_type": "code",
   "execution_count": null,
   "id": "efc64245",
   "metadata": {},
   "outputs": [],
   "source": [
    "import GEOparse\n",
    "gse = GEOparse.get_GEO(\"GSE39445\", annotate_gpl='GPL15331', silent=True)"
   ]
  },
  {
   "cell_type": "markdown",
   "id": "dd2682e9",
   "metadata": {},
   "source": [
    "### Pre-processing"
   ]
  },
  {
   "cell_type": "code",
   "execution_count": null,
   "id": "cc916385",
   "metadata": {},
   "outputs": [],
   "source": []
  }
 ],
 "metadata": {
  "kernelspec": {
   "display_name": "Python 3",
   "language": "python",
   "name": "python3"
  },
  "language_info": {
   "codemirror_mode": {
    "name": "ipython",
    "version": 3
   },
   "file_extension": ".py",
   "mimetype": "text/x-python",
   "name": "python",
   "nbconvert_exporter": "python",
   "pygments_lexer": "ipython3",
   "version": "3.8.5"
  }
 },
 "nbformat": 4,
 "nbformat_minor": 5
}
